{
 "cells": [
  {
   "cell_type": "code",
   "execution_count": 1,
   "id": "d34fc421-7f82-4982-b069-d346734df65c",
   "metadata": {},
   "outputs": [
    {
     "name": "stdout",
     "output_type": "stream",
     "text": [
      "   CustomerID  Gender  Age  Annual Income (k$)  Spending Score (1-100)\n",
      "0           1    Male   19                  15                      39\n",
      "1           2    Male   21                  15                      81\n",
      "2           3  Female   20                  16                       6\n",
      "3           4  Female   23                  16                      77\n",
      "4           5  Female   31                  17                      40\n"
     ]
    }
   ],
   "source": [
    "import pandas as pd\n",
    "\n",
    "# Load the CSV file\n",
    "df = pd.read_csv(\"Mall_Customers.csv\")\n",
    "\n",
    "# View the first few rows\n",
    "print(df.head())"
   ]
  },
  {
   "cell_type": "code",
   "execution_count": 2,
   "id": "598686b8-0a4f-4c49-bf8e-788af4b14538",
   "metadata": {},
   "outputs": [
    {
     "name": "stdout",
     "output_type": "stream",
     "text": [
      "Index(['customerid', 'gender', 'age', 'annual_income_k$',\n",
      "       'spending_score_1-100'],\n",
      "      dtype='object')\n"
     ]
    }
   ],
   "source": [
    "# Clean column names\n",
    "df.columns = (\n",
    "    df.columns\n",
    "    .str.strip()\n",
    "    .str.lower()\n",
    "    .str.replace(\" \", \"_\")\n",
    "    .str.replace(\"(\", \"\", regex=False)\n",
    "    .str.replace(\")\", \"\", regex=False)\n",
    ")\n",
    "\n",
    "# Show cleaned column names\n",
    "print(df.columns)"
   ]
  },
  {
   "cell_type": "code",
   "execution_count": 3,
   "id": "ac291973-f46f-443f-8358-94db7d0c8c68",
   "metadata": {},
   "outputs": [
    {
     "name": "stdout",
     "output_type": "stream",
     "text": [
      "Duplicates removed: 0\n"
     ]
    }
   ],
   "source": [
    "# Check the number of rows before removing duplicates\n",
    "before = df.shape[0]\n",
    "\n",
    "# Drop duplicate rows\n",
    "df = df.drop_duplicates()\n",
    "\n",
    "# Check the number of rows after\n",
    "after = df.shape[0]\n",
    "\n",
    "# Display how many duplicates were removed\n",
    "print(f\"Duplicates removed: {before - after}\")"
   ]
  },
  {
   "cell_type": "code",
   "execution_count": 4,
   "id": "0b42cf90-a74b-4a08-9436-655828e32330",
   "metadata": {},
   "outputs": [
    {
     "name": "stdout",
     "output_type": "stream",
     "text": [
      "['Male' 'Female']\n"
     ]
    }
   ],
   "source": [
    "# Standardize gender values\n",
    "df['gender'] = df['gender'].str.strip().str.title()\n",
    "\n",
    "# Check the unique values\n",
    "print(df['gender'].unique())"
   ]
  },
  {
   "cell_type": "code",
   "execution_count": 5,
   "id": "deaee91e-ed99-42c2-b2c6-75872b9ac377",
   "metadata": {},
   "outputs": [
    {
     "name": "stdout",
     "output_type": "stream",
     "text": [
      "customerid               int64\n",
      "gender                  object\n",
      "age                      int64\n",
      "annual_income_k$         int64\n",
      "spending_score_1-100     int64\n",
      "dtype: object\n"
     ]
    }
   ],
   "source": [
    "# Check data types\n",
    "print(df.dtypes)"
   ]
  },
  {
   "cell_type": "code",
   "execution_count": 6,
   "id": "eb314c38-d8e6-4574-938b-815245a6835c",
   "metadata": {},
   "outputs": [
    {
     "name": "stdout",
     "output_type": "stream",
     "text": [
      "Cleaned dataset saved as 'Mall_Customers_Cleaned.csv'\n"
     ]
    }
   ],
   "source": [
    "# Save the cleaned dataset to a new file\n",
    "df.to_csv(\"Mall_Customers_Cleaned.csv\", index=False)\n",
    "\n",
    "print(\"Cleaned dataset saved as 'Mall_Customers_Cleaned.csv'\")"
   ]
  },
  {
   "cell_type": "code",
   "execution_count": null,
   "id": "0d13bc86-d1a2-4bb5-87e9-c962c1c3cbb1",
   "metadata": {},
   "outputs": [],
   "source": []
  }
 ],
 "metadata": {
  "kernelspec": {
   "display_name": "Python 3 (ipykernel)",
   "language": "python",
   "name": "python3"
  },
  "language_info": {
   "codemirror_mode": {
    "name": "ipython",
    "version": 3
   },
   "file_extension": ".py",
   "mimetype": "text/x-python",
   "name": "python",
   "nbconvert_exporter": "python",
   "pygments_lexer": "ipython3",
   "version": "3.12.7"
  }
 },
 "nbformat": 4,
 "nbformat_minor": 5
}
